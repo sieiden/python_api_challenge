{
 "cells": [
  {
   "cell_type": "markdown",
   "metadata": {},
   "source": [
    "# WeatherPy\n",
    "----\n",
    "\n",
    "#### Note\n",
    "* Instructions have been included for each segment. You do not have to follow them exactly, but they are included to help you think through the steps."
   ]
  },
  {
   "cell_type": "code",
   "execution_count": 6,
   "metadata": {
    "scrolled": true
   },
   "outputs": [],
   "source": [
    "#!pip install citipy\n",
    "from citipy import citipy\n",
    "\n",
    "#Set dependencies\n",
    "import json\n",
    "import requests\n",
    "import pandas as pd\n",
    "import numpy as np\n",
    "import matplotlib.pyplot as plt\n",
    "import time\n",
    "import datetime\n",
    "import scipy.stats as st\n",
    "from scipy.stats import linregress\n",
    "\n",
    "#import api key\n",
    "from api_keys import weather_api_key\n",
    "\n",
    "#Range of latitudes and longitudes\n",
    "range_lat = (-90,90)\n",
    "range_lng = (-180,180)"
   ]
  },
  {
   "cell_type": "markdown",
   "metadata": {},
   "source": [
    "## Generate Cities List"
   ]
  },
  {
   "cell_type": "code",
   "execution_count": 7,
   "metadata": {},
   "outputs": [
    {
     "data": {
      "text/plain": [
       "634"
      ]
     },
     "execution_count": 7,
     "metadata": {},
     "output_type": "execute_result"
    }
   ],
   "source": [
    "#empty lists to hold data\n",
    "lat_lng_list = []\n",
    "city_list = []\n",
    "\n",
    "#generate random latitudes and longitudes\n",
    "lats = np.random.uniform(range_lat[0],range_lat[1],size=1500)\n",
    "lngs = np.random.uniform(range_lng[0],range_lng[1],size=1500)\n",
    "\n",
    "#zip latitudes and longitudes together\n",
    "lat_lng_list = zip(lats,lngs)\n",
    "\n",
    "#identify city based on lat/lng\n",
    "for lat_lng in lat_lng_list:\n",
    "    city = citipy.nearest_city(lat_lng[0],lat_lng[1]).city_name\n",
    "    if city not in city_list:\n",
    "        city_list.append(city)\n",
    "\n",
    "#find number of cities\n",
    "len(city_list)"
   ]
  },
  {
   "cell_type": "markdown",
   "metadata": {},
   "source": [
    "### Perform API Calls\n",
    "* Perform a weather check on each city using a series of successive API calls.\n",
    "* Include a print log of each city as it'sbeing processed (with the city number and city name).\n"
   ]
  },
  {
   "cell_type": "code",
   "execution_count": 8,
   "metadata": {
    "scrolled": true
   },
   "outputs": [
    {
     "name": "stdout",
     "output_type": "stream",
     "text": [
      "Beginning Data Retrieval\n",
      "--------------------------\n",
      "Processing Record 1 of Set 1| adrar\n",
      "Processing Record 2 of Set 1| chokurdakh\n",
      "Processing Record 3 of Set 1| laguna\n",
      "Processing Record 4 of Set 1| mehamn\n",
      "Processing Record 5 of Set 1| samusu\n",
      "City not found. Skipping...\n",
      "Processing Record 6 of Set 1| punta arenas\n",
      "City not found. Skipping...\n",
      "Processing Record 7 of Set 1| lleida\n",
      "Processing Record 8 of Set 1| cape town\n",
      "City not found. Skipping...\n",
      "Processing Record 9 of Set 1| ribeira grande\n",
      "City not found. Skipping...\n",
      "Processing Record 10 of Set 1| rikitea\n",
      "Processing Record 11 of Set 1| hobyo\n",
      "Processing Record 12 of Set 1| bayan\n",
      "Processing Record 13 of Set 1| mar del plata\n",
      "City not found. Skipping...\n",
      "Processing Record 14 of Set 1| bodmin\n",
      "Processing Record 15 of Set 1| busselton\n",
      "Processing Record 16 of Set 1| butaritari\n",
      "Processing Record 17 of Set 1| bengkulu\n",
      "Processing Record 18 of Set 1| jalingo\n",
      "Processing Record 19 of Set 1| ushuaia\n",
      "Processing Record 20 of Set 1| bagdarin\n",
      "Processing Record 21 of Set 1| cananeia\n",
      "Processing Record 22 of Set 1| moranbah\n",
      "Processing Record 23 of Set 1| bandundu\n",
      "Processing Record 24 of Set 1| fonte boa\n",
      "Processing Record 25 of Set 1| amderma\n",
      "City not found. Skipping...\n",
      "Processing Record 26 of Set 1| sentyabrskiy\n",
      "City not found. Skipping...\n",
      "Processing Record 27 of Set 1| coihaique\n",
      "Processing Record 28 of Set 1| huarmey\n",
      "Processing Record 29 of Set 1| nikolskoye\n",
      "Processing Record 30 of Set 1| ventspils\n",
      "Processing Record 31 of Set 1| tilichiki\n",
      "Processing Record 32 of Set 1| provideniya\n",
      "Processing Record 33 of Set 1| road town\n",
      "City not found. Skipping...\n",
      "Processing Record 34 of Set 1| baykit\n",
      "Processing Record 35 of Set 1| cidreira\n",
      "Processing Record 36 of Set 1| salinopolis\n",
      "Processing Record 37 of Set 1| belushya guba\n",
      "City not found. Skipping...\n",
      "Processing Record 38 of Set 1| hambantota\n",
      "Processing Record 39 of Set 1| tolbazy\n",
      "Processing Record 40 of Set 1| naryan-mar\n",
      "Processing Record 41 of Set 1| barrow\n",
      "Processing Record 42 of Set 1| jamestown\n",
      "Processing Record 43 of Set 1| cayenne\n",
      "Processing Record 44 of Set 1| buin\n",
      "Processing Record 45 of Set 1| sitka\n",
      "Processing Record 46 of Set 1| riyadh\n",
      "Processing Record 47 of Set 1| ola\n",
      "Processing Record 48 of Set 1| vaini\n",
      "Processing Record 49 of Set 1| aksu\n",
      "Processing Record 50 of Set 1| plettenberg bay\n",
      "City not found. Skipping...\n",
      "Processing Record 1 of Set 2| srednekolymsk\n",
      "Processing Record 2 of Set 2| hermanus\n",
      "Processing Record 3 of Set 2| chillan\n",
      "Processing Record 4 of Set 2| los llanos de aridane\n",
      "City not found. Skipping...\n",
      "Processing Record 5 of Set 2| lebu\n",
      "Processing Record 6 of Set 2| taolanaro\n",
      "City not found. Skipping...\n",
      "Processing Record 7 of Set 2| dikson\n",
      "Processing Record 8 of Set 2| vaitape\n",
      "Processing Record 9 of Set 2| hervey bay\n",
      "City not found. Skipping...\n",
      "Processing Record 10 of Set 2| attawapiskat\n",
      "City not found. Skipping...\n",
      "Processing Record 11 of Set 2| yar-sale\n",
      "Processing Record 12 of Set 2| arraial do cabo\n",
      "City not found. Skipping...\n",
      "Processing Record 13 of Set 2| mackay\n",
      "Processing Record 14 of Set 2| cody\n",
      "Processing Record 15 of Set 2| rawson\n",
      "Processing Record 16 of Set 2| opuwo\n",
      "Processing Record 17 of Set 2| kavieng\n",
      "Processing Record 18 of Set 2| dongsheng\n",
      "Processing Record 19 of Set 2| hithadhoo\n",
      "Processing Record 20 of Set 2| qaanaaq\n",
      "Processing Record 21 of Set 2| lompoc\n",
      "Processing Record 22 of Set 2| killybegs\n",
      "Processing Record 23 of Set 2| nehe\n",
      "Processing Record 24 of Set 2| san quintin\n",
      "City not found. Skipping...\n",
      "Processing Record 25 of Set 2| kodiak\n",
      "Processing Record 26 of Set 2| macherla\n",
      "Processing Record 27 of Set 2| floro\n",
      "Processing Record 28 of Set 2| gazanjyk\n",
      "Processing Record 29 of Set 2| phan rang\n",
      "City not found. Skipping...\n",
      "Processing Record 30 of Set 2| hasanpur\n",
      "Processing Record 31 of Set 2| norman wells\n",
      "City not found. Skipping...\n",
      "Processing Record 32 of Set 2| waterloo\n",
      "Processing Record 33 of Set 2| natal\n",
      "Processing Record 34 of Set 2| tasiilaq\n",
      "Processing Record 35 of Set 2| albany\n",
      "Processing Record 36 of Set 2| ritchie\n",
      "Processing Record 37 of Set 2| new norfolk\n",
      "City not found. Skipping...\n",
      "Processing Record 38 of Set 2| avarua\n",
      "Processing Record 39 of Set 2| chuy\n",
      "Processing Record 40 of Set 2| severnyy\n",
      "Processing Record 41 of Set 2| cananea\n",
      "Processing Record 42 of Set 2| the pas\n",
      "City not found. Skipping...\n",
      "Processing Record 43 of Set 2| parfino\n",
      "Processing Record 44 of Set 2| iracoubo\n",
      "Processing Record 45 of Set 2| yellowknife\n",
      "Processing Record 46 of Set 2| margate\n",
      "Processing Record 47 of Set 2| sebrovo\n",
      "Processing Record 48 of Set 2| san patricio\n",
      "City not found. Skipping...\n",
      "Processing Record 49 of Set 2| mataura\n",
      "Processing Record 50 of Set 2| atuona\n",
      "Processing Record 1 of Set 3| ponta do sol\n",
      "City not found. Skipping...\n",
      "Processing Record 2 of Set 3| upernavik\n",
      "Processing Record 3 of Set 3| buala\n",
      "Processing Record 4 of Set 3| husavik\n",
      "Processing Record 5 of Set 3| phoenix\n",
      "Processing Record 6 of Set 3| frolovo\n",
      "Processing Record 7 of Set 3| puerto ayora\n",
      "City not found. Skipping...\n",
      "Processing Record 8 of Set 3| broome\n",
      "Processing Record 9 of Set 3| krasnogvardeyskiy\n",
      "Processing Record 10 of Set 3| olafsvik\n",
      "Processing Record 11 of Set 3| kununurra\n",
      "Processing Record 12 of Set 3| hobart\n",
      "Processing Record 13 of Set 3| bredasdorp\n",
      "Processing Record 14 of Set 3| ratlam\n",
      "Processing Record 15 of Set 3| pangnirtung\n",
      "Processing Record 16 of Set 3| daxian\n",
      "City not found. Skipping...\n",
      "Processing Record 17 of Set 3| pokrovsk\n",
      "Processing Record 18 of Set 3| longyearbyen\n",
      "Processing Record 19 of Set 3| inhambane\n",
      "Processing Record 20 of Set 3| truth or consequences\n",
      "City not found. Skipping...\n",
      "Processing Record 21 of Set 3| port lincoln\n",
      "City not found. Skipping...\n",
      "Processing Record 22 of Set 3| harper\n",
      "Processing Record 23 of Set 3| severo-kurilsk\n",
      "Processing Record 24 of Set 3| acapulco\n",
      "Processing Record 25 of Set 3| pacific grove\n",
      "City not found. Skipping...\n",
      "Processing Record 26 of Set 3| povazska bystrica\n",
      "City not found. Skipping...\n",
      "Processing Record 27 of Set 3| porto tolle\n",
      "City not found. Skipping...\n",
      "Processing Record 28 of Set 3| nhulunbuy\n",
      "Processing Record 29 of Set 3| beloha\n",
      "Processing Record 30 of Set 3| elko\n",
      "Processing Record 31 of Set 3| bambous virieux\n",
      "City not found. Skipping...\n",
      "Processing Record 32 of Set 3| hollola\n",
      "Processing Record 33 of Set 3| akyab\n",
      "Processing Record 34 of Set 3| apatzingan\n",
      "Processing Record 35 of Set 3| geraldton\n",
      "Processing Record 36 of Set 3| faanui\n",
      "Processing Record 37 of Set 3| khonuu\n",
      "City not found. Skipping...\n",
      "Processing Record 38 of Set 3| castanos\n",
      "Processing Record 39 of Set 3| guerrero negro\n",
      "City not found. Skipping...\n",
      "Processing Record 40 of Set 3| pevek\n",
      "Processing Record 41 of Set 3| rudbar\n",
      "Processing Record 42 of Set 3| forte dei marmi\n",
      "City not found. Skipping...\n",
      "Processing Record 43 of Set 3| port elizabeth\n",
      "City not found. Skipping...\n",
      "Processing Record 44 of Set 3| ostrovnoy\n",
      "Processing Record 45 of Set 3| hilo\n",
      "Processing Record 46 of Set 3| carnarvon\n",
      "Processing Record 47 of Set 3| garowe\n",
      "Processing Record 48 of Set 3| ambon\n",
      "Processing Record 49 of Set 3| eyl\n",
      "Processing Record 50 of Set 3| capitao poco\n",
      "City not found. Skipping...\n",
      "Processing Record 1 of Set 4| arlit\n",
      "Processing Record 2 of Set 4| saint george\n",
      "City not found. Skipping...\n",
      "Processing Record 3 of Set 4| santa eulalia\n",
      "City not found. Skipping...\n",
      "Processing Record 4 of Set 4| talnakh\n",
      "Processing Record 5 of Set 4| iqaluit\n",
      "Processing Record 6 of Set 4| peniche\n",
      "Processing Record 7 of Set 4| anandnagar\n",
      "Processing Record 8 of Set 4| illoqqortoormiut\n",
      "City not found. Skipping...\n",
      "Processing Record 9 of Set 4| saint-philippe\n",
      "Processing Record 10 of Set 4| hami\n",
      "Processing Record 11 of Set 4| saldanha\n",
      "Processing Record 12 of Set 4| igrim\n",
      "Processing Record 13 of Set 4| taoudenni\n",
      "Processing Record 14 of Set 4| shar\n",
      "Processing Record 15 of Set 4| namatanai\n",
      "Processing Record 16 of Set 4| ninotsminda\n",
      "Processing Record 17 of Set 4| clyde river\n",
      "City not found. Skipping...\n",
      "Processing Record 18 of Set 4| bandarbeyla\n",
      "Processing Record 19 of Set 4| mumford\n",
      "Processing Record 20 of Set 4| springville\n",
      "Processing Record 21 of Set 4| roald\n",
      "Processing Record 22 of Set 4| camargo\n",
      "Processing Record 23 of Set 4| batagay\n",
      "Processing Record 24 of Set 4| luderitz\n",
      "Processing Record 25 of Set 4| oussouye\n",
      "Processing Record 26 of Set 4| talaya\n",
      "Processing Record 27 of Set 4| oranjestad\n",
      "Processing Record 28 of Set 4| hamilton\n",
      "Processing Record 29 of Set 4| mantua\n",
      "Processing Record 30 of Set 4| yazman\n",
      "Processing Record 31 of Set 4| saleaula\n",
      "City not found. Skipping...\n",
      "Processing Record 32 of Set 4| sola\n",
      "Processing Record 33 of Set 4| racine\n",
      "Processing Record 34 of Set 4| abu zabad\n",
      "City not found. Skipping...\n",
      "Processing Record 35 of Set 4| east london\n",
      "City not found. Skipping...\n",
      "Processing Record 36 of Set 4| saskylakh\n",
      "Processing Record 37 of Set 4| vestmannaeyjar\n",
      "Processing Record 38 of Set 4| hasaki\n",
      "Processing Record 39 of Set 4| dicabisagan\n",
      "Processing Record 40 of Set 4| nizwa\n",
      "Processing Record 41 of Set 4| freeport\n",
      "Processing Record 42 of Set 4| zhanatas\n",
      "City not found. Skipping...\n",
      "Processing Record 43 of Set 4| sidney\n",
      "Processing Record 44 of Set 4| uyuni\n",
      "Processing Record 45 of Set 4| yanan\n",
      "City not found. Skipping...\n",
      "Processing Record 46 of Set 4| hirado\n",
      "Processing Record 47 of Set 4| tarudant\n",
      "City not found. Skipping...\n",
      "Processing Record 48 of Set 4| kapaa\n",
      "Processing Record 49 of Set 4| san pedro de cajas\n",
      "City not found. Skipping...\n",
      "Processing Record 50 of Set 4| jumla\n",
      "Processing Record 1 of Set 5| coahuayana\n",
      "Processing Record 2 of Set 5| laela\n",
      "Processing Record 3 of Set 5| sauce\n",
      "Processing Record 4 of Set 5| barentsburg\n",
      "City not found. Skipping...\n",
      "Processing Record 5 of Set 5| tobol\n",
      "Processing Record 6 of Set 5| katsuura\n",
      "Processing Record 7 of Set 5| fez\n",
      "Processing Record 8 of Set 5| jiaojiang\n",
      "Processing Record 9 of Set 5| kieta\n",
      "Processing Record 10 of Set 5| orlik\n",
      "Processing Record 11 of Set 5| georgetown\n",
      "Processing Record 12 of Set 5| bluff\n",
      "Processing Record 13 of Set 5| airai\n",
      "Processing Record 14 of Set 5| tiksi\n",
      "Processing Record 15 of Set 5| port blair\n",
      "City not found. Skipping...\n",
      "Processing Record 16 of Set 5| salalah\n",
      "Processing Record 17 of Set 5| lavrentiya\n",
      "Processing Record 18 of Set 5| nova vcelnice\n",
      "City not found. Skipping...\n",
      "Processing Record 19 of Set 5| kirovsk\n",
      "Processing Record 20 of Set 5| svetlograd\n",
      "Processing Record 21 of Set 5| zhengjiatun\n",
      "Processing Record 22 of Set 5| querecotillo\n",
      "Processing Record 23 of Set 5| asyut\n",
      "Processing Record 24 of Set 5| macerata\n",
      "Processing Record 25 of Set 5| sohag\n",
      "Processing Record 26 of Set 5| atbasar\n",
      "Processing Record 27 of Set 5| caravelas\n",
      "Processing Record 28 of Set 5| mys shmidta\n",
      "City not found. Skipping...\n",
      "Processing Record 29 of Set 5| constitucion\n",
      "Processing Record 30 of Set 5| santa clara\n",
      "City not found. Skipping...\n",
      "Processing Record 31 of Set 5| clarksburg\n",
      "Processing Record 32 of Set 5| townsville\n",
      "Processing Record 33 of Set 5| nerchinskiy zavod\n",
      "City not found. Skipping...\n",
      "Processing Record 34 of Set 5| zalantun\n",
      "Processing Record 35 of Set 5| comodoro rivadavia\n",
      "City not found. Skipping...\n",
      "Processing Record 36 of Set 5| thakurgaon\n",
      "Processing Record 37 of Set 5| alabushevo\n",
      "Processing Record 38 of Set 5| chitipa\n",
      "Processing Record 39 of Set 5| marcona\n",
      "City not found. Skipping...\n",
      "Processing Record 40 of Set 5| khatanga\n",
      "Processing Record 41 of Set 5| sao gabriel da cachoeira\n",
      "City not found. Skipping...\n",
      "Processing Record 42 of Set 5| coquimbo\n",
      "Processing Record 43 of Set 5| sorong\n",
      "Processing Record 44 of Set 5| fortuna\n",
      "Processing Record 45 of Set 5| thompson\n",
      "Processing Record 46 of Set 5| sindor\n",
      "Processing Record 47 of Set 5| beringovskiy\n",
      "Processing Record 48 of Set 5| mragowo\n",
      "Processing Record 49 of Set 5| sarangani\n",
      "Processing Record 50 of Set 5| victoria\n",
      "Processing Record 1 of Set 6| kazalinsk\n",
      "City not found. Skipping...\n",
      "Processing Record 2 of Set 6| louisbourg\n",
      "City not found. Skipping...\n",
      "Processing Record 3 of Set 6| bethel\n",
      "Processing Record 4 of Set 6| pitimbu\n",
      "Processing Record 5 of Set 6| juneau\n",
      "Processing Record 6 of Set 6| leningradskiy\n",
      "Processing Record 7 of Set 6| torbay\n",
      "Processing Record 8 of Set 6| pitsunda\n",
      "Processing Record 9 of Set 6| port alfred\n",
      "City not found. Skipping...\n",
      "Processing Record 10 of Set 6| mount gambier\n",
      "City not found. Skipping...\n",
      "Processing Record 11 of Set 6| berlevag\n",
      "Processing Record 12 of Set 6| kichera\n",
      "Processing Record 13 of Set 6| phek\n",
      "Processing Record 14 of Set 6| buhe\n",
      "Processing Record 15 of Set 6| cherskiy\n",
      "Processing Record 16 of Set 6| praia\n",
      "Processing Record 17 of Set 6| nakhon thai\n",
      "City not found. Skipping...\n",
      "Processing Record 18 of Set 6| svetlaya\n",
      "Processing Record 19 of Set 6| mahebourg\n",
      "Processing Record 20 of Set 6| ust-nera\n",
      "Processing Record 21 of Set 6| dakar\n",
      "Processing Record 22 of Set 6| taber\n",
      "Processing Record 23 of Set 6| sao filipe\n",
      "City not found. Skipping...\n",
      "Processing Record 24 of Set 6| hay river\n",
      "City not found. Skipping...\n",
      "Processing Record 25 of Set 6| havre-saint-pierre\n",
      "Processing Record 26 of Set 6| saint-francois\n",
      "Processing Record 27 of Set 6| soc trang\n",
      "City not found. Skipping...\n",
      "Processing Record 28 of Set 6| ulaangom\n",
      "Processing Record 29 of Set 6| nuuk\n",
      "Processing Record 30 of Set 6| chernyshevskiy\n",
      "Processing Record 31 of Set 6| batticaloa\n",
      "Processing Record 32 of Set 6| port hedland\n",
      "City not found. Skipping...\n",
      "Processing Record 33 of Set 6| cobija\n",
      "Processing Record 34 of Set 6| banda aceh\n",
      "City not found. Skipping...\n",
      "Processing Record 35 of Set 6| tumannyy\n",
      "City not found. Skipping...\n",
      "Processing Record 36 of Set 6| ust-tsilma\n",
      "Processing Record 37 of Set 6| ballina\n",
      "Processing Record 38 of Set 6| gizo\n",
      "Processing Record 39 of Set 6| newport\n",
      "Processing Record 40 of Set 6| san juan\n",
      "City not found. Skipping...\n",
      "Processing Record 41 of Set 6| sadiqabad\n",
      "Processing Record 42 of Set 6| paso de los toros\n",
      "City not found. Skipping...\n",
      "Processing Record 43 of Set 6| mahanoro\n",
      "Processing Record 44 of Set 6| quebrada larga\n",
      "City not found. Skipping...\n",
      "Processing Record 45 of Set 6| great yarmouth\n",
      "City not found. Skipping...\n",
      "Processing Record 46 of Set 6| pisco\n",
      "Processing Record 47 of Set 6| sisimiut\n",
      "Processing Record 48 of Set 6| mildura\n",
      "Processing Record 49 of Set 6| usinsk\n",
      "Processing Record 50 of Set 6| nemuro\n",
      "Processing Record 1 of Set 7| taltal\n",
      "Processing Record 2 of Set 7| salta\n",
      "Processing Record 3 of Set 7| toora-khem\n",
      "Processing Record 4 of Set 7| oranjemund\n",
      "Processing Record 5 of Set 7| kon tum\n",
      "City not found. Skipping...\n",
      "Processing Record 6 of Set 7| sept-iles\n",
      "Processing Record 7 of Set 7| port keats\n",
      "City not found. Skipping...\n",
      "Processing Record 8 of Set 7| aklavik\n",
      "Processing Record 9 of Set 7| marolambo\n",
      "Processing Record 10 of Set 7| falealupo\n",
      "City not found. Skipping...\n",
      "Processing Record 11 of Set 7| vaitupu\n",
      "City not found. Skipping...\n",
      "Processing Record 12 of Set 7| monrovia\n",
      "Processing Record 13 of Set 7| galle\n",
      "Processing Record 14 of Set 7| keuruu\n",
      "Processing Record 15 of Set 7| vao\n",
      "Processing Record 16 of Set 7| kaitangata\n",
      "Processing Record 17 of Set 7| alta floresta\n",
      "City not found. Skipping...\n",
      "Processing Record 18 of Set 7| carson city\n",
      "City not found. Skipping...\n",
      "Processing Record 19 of Set 7| lorengau\n",
      "Processing Record 20 of Set 7| te anau\n",
      "City not found. Skipping...\n",
      "Processing Record 21 of Set 7| kahului\n",
      "Processing Record 22 of Set 7| narsaq\n",
      "Processing Record 23 of Set 7| skalistyy\n",
      "City not found. Skipping...\n",
      "Processing Record 24 of Set 7| tura\n",
      "Processing Record 25 of Set 7| neman\n",
      "Processing Record 26 of Set 7| bambanglipuro\n",
      "Processing Record 27 of Set 7| hanyang\n",
      "Processing Record 28 of Set 7| mikhaylovka\n",
      "Processing Record 29 of Set 7| borodino\n",
      "Processing Record 30 of Set 7| shingu\n",
      "Processing Record 31 of Set 7| puerto carreno\n",
      "City not found. Skipping...\n",
      "Processing Record 32 of Set 7| mahina\n",
      "Processing Record 33 of Set 7| general luna\n",
      "City not found. Skipping...\n",
      "Processing Record 34 of Set 7| faya\n",
      "Processing Record 35 of Set 7| zolotinka\n",
      "City not found. Skipping...\n",
      "Processing Record 36 of Set 7| sawtell\n",
      "Processing Record 37 of Set 7| stykkisholmur\n",
      "Processing Record 38 of Set 7| portland\n",
      "Processing Record 39 of Set 7| varhaug\n",
      "Processing Record 40 of Set 7| charters towers\n",
      "City not found. Skipping...\n",
      "Processing Record 41 of Set 7| tambacounda\n",
      "Processing Record 42 of Set 7| nishihara\n",
      "Processing Record 43 of Set 7| nizhniy tsasuchey\n",
      "City not found. Skipping...\n",
      "Processing Record 44 of Set 7| umzimvubu\n",
      "City not found. Skipping...\n",
      "Processing Record 45 of Set 7| wahpeton\n",
      "Processing Record 46 of Set 7| carbonia\n",
      "Processing Record 47 of Set 7| poum\n",
      "Processing Record 48 of Set 7| teya\n",
      "Processing Record 49 of Set 7| tuktoyaktuk\n",
      "Processing Record 50 of Set 7| huambo\n",
      "Processing Record 1 of Set 8| north bend\n",
      "City not found. Skipping...\n",
      "Processing Record 2 of Set 8| the valley\n",
      "City not found. Skipping...\n",
      "Processing Record 3 of Set 8| strazica\n",
      "City not found. Skipping...\n",
      "Processing Record 4 of Set 8| tarauaca\n",
      "Processing Record 5 of Set 8| ishigaki\n",
      "Processing Record 6 of Set 8| niamey\n",
      "Processing Record 7 of Set 8| hajnowka\n",
      "Processing Record 8 of Set 8| kambam\n",
      "Processing Record 9 of Set 8| awka\n",
      "Processing Record 10 of Set 8| vanimo\n",
      "Processing Record 11 of Set 8| kalmunai\n",
      "Processing Record 12 of Set 8| omboue\n",
      "Processing Record 13 of Set 8| raudeberg\n",
      "Processing Record 14 of Set 8| khorinsk\n",
      "Processing Record 15 of Set 8| samarinda\n",
      "Processing Record 16 of Set 8| sur\n",
      "Processing Record 17 of Set 8| cabo san lucas\n",
      "City not found. Skipping...\n",
      "Processing Record 18 of Set 8| souillac\n",
      "Processing Record 19 of Set 8| bilma\n",
      "Processing Record 20 of Set 8| esso\n",
      "Processing Record 21 of Set 8| saint-georges\n",
      "Processing Record 22 of Set 8| skjervoy\n",
      "Processing Record 23 of Set 8| hudson bay\n",
      "City not found. Skipping...\n",
      "Processing Record 24 of Set 8| naze\n",
      "Processing Record 25 of Set 8| sioux lookout\n",
      "City not found. Skipping...\n",
      "Processing Record 26 of Set 8| wanning\n",
      "Processing Record 27 of Set 8| rolim de moura\n",
      "City not found. Skipping...\n",
      "Processing Record 28 of Set 8| omsukchan\n",
      "Processing Record 29 of Set 8| ixtapa\n",
      "Processing Record 30 of Set 8| kumba\n",
      "Processing Record 31 of Set 8| shahe\n",
      "Processing Record 32 of Set 8| korla\n",
      "Processing Record 33 of Set 8| isangel\n",
      "Processing Record 34 of Set 8| sao joao da barra\n",
      "City not found. Skipping...\n",
      "Processing Record 35 of Set 8| goundam\n",
      "Processing Record 36 of Set 8| kamenskoye\n",
      "City not found. Skipping...\n",
      "Processing Record 37 of Set 8| hualmay\n",
      "Processing Record 38 of Set 8| castro\n",
      "Processing Record 39 of Set 8| kangaba\n",
      "Processing Record 40 of Set 8| ust-kuyga\n",
      "Processing Record 41 of Set 8| kintampo\n",
      "Processing Record 42 of Set 8| escanaba\n",
      "Processing Record 43 of Set 8| yanchukan\n",
      "City not found. Skipping...\n",
      "Processing Record 44 of Set 8| morondava\n",
      "Processing Record 45 of Set 8| shiyan\n",
      "Processing Record 46 of Set 8| machico\n",
      "Processing Record 47 of Set 8| praia da vitoria\n",
      "City not found. Skipping...\n",
      "Processing Record 48 of Set 8| jiuquan\n",
      "Processing Record 49 of Set 8| meiktila\n",
      "Processing Record 50 of Set 8| dukat\n",
      "Processing Record 1 of Set 9| lipovtsy\n",
      "Processing Record 2 of Set 9| iralaya\n",
      "Processing Record 3 of Set 9| nanortalik\n",
      "Processing Record 4 of Set 9| sinkat\n",
      "City not found. Skipping...\n",
      "Processing Record 5 of Set 9| rawannawi\n",
      "City not found. Skipping...\n",
      "Processing Record 6 of Set 9| san cristobal\n",
      "City not found. Skipping...\n",
      "Processing Record 7 of Set 9| tokur\n",
      "Processing Record 8 of Set 9| coffs harbour\n",
      "City not found. Skipping...\n",
      "Processing Record 9 of Set 9| namibe\n",
      "Processing Record 10 of Set 9| tsihombe\n",
      "City not found. Skipping...\n",
      "Processing Record 11 of Set 9| chara\n",
      "Processing Record 12 of Set 9| cap malheureux\n",
      "City not found. Skipping...\n",
      "Processing Record 13 of Set 9| guajara-mirim\n",
      "City not found. Skipping...\n",
      "Processing Record 14 of Set 9| sala\n",
      "Processing Record 15 of Set 9| canavieiras\n",
      "Processing Record 16 of Set 9| zafra\n",
      "Processing Record 17 of Set 9| kavaratti\n",
      "Processing Record 18 of Set 9| solovetskiy\n",
      "City not found. Skipping...\n",
      "Processing Record 19 of Set 9| tabou\n",
      "Processing Record 20 of Set 9| alexandria\n",
      "Processing Record 21 of Set 9| ascope\n",
      "Processing Record 22 of Set 9| hofn\n",
      "Processing Record 23 of Set 9| labytnangi\n",
      "Processing Record 24 of Set 9| mbour\n",
      "Processing Record 25 of Set 9| walvis bay\n",
      "City not found. Skipping...\n",
      "Processing Record 26 of Set 9| borama\n",
      "City not found. Skipping...\n",
      "Processing Record 27 of Set 9| dingle\n",
      "Processing Record 28 of Set 9| buraydah\n",
      "Processing Record 29 of Set 9| fougamou\n",
      "Processing Record 30 of Set 9| marv dasht\n",
      "City not found. Skipping...\n",
      "Processing Record 31 of Set 9| kruisfontein\n",
      "Processing Record 32 of Set 9| whitehorse\n",
      "Processing Record 33 of Set 9| nevelsk\n",
      "Processing Record 34 of Set 9| ilulissat\n",
      "Processing Record 35 of Set 9| tuatapere\n",
      "Processing Record 36 of Set 9| alenquer\n",
      "Processing Record 37 of Set 9| kirakira\n",
      "Processing Record 38 of Set 9| beinamar\n",
      "Processing Record 39 of Set 9| acarau\n",
      "Processing Record 40 of Set 9| bijar\n",
      "Processing Record 41 of Set 9| quatre cocos\n",
      "City not found. Skipping...\n",
      "Processing Record 42 of Set 9| sibu\n",
      "Processing Record 43 of Set 9| skibbereen\n",
      "Processing Record 44 of Set 9| nizhniy kuranakh\n",
      "City not found. Skipping...\n",
      "Processing Record 45 of Set 9| glenwood springs\n",
      "City not found. Skipping...\n",
      "Processing Record 46 of Set 9| asau\n",
      "Processing Record 47 of Set 9| skarnes\n",
      "Processing Record 48 of Set 9| rutana\n",
      "Processing Record 49 of Set 9| kamenskiy\n",
      "Processing Record 50 of Set 9| tombouctou\n",
      "Processing Record 1 of Set 10| vangaindrano\n",
      "Processing Record 2 of Set 10| nador\n",
      "Processing Record 3 of Set 10| penalva\n",
      "Processing Record 4 of Set 10| haverfordwest\n",
      "Processing Record 5 of Set 10| saint stephen\n",
      "City not found. Skipping...\n",
      "Processing Record 6 of Set 10| marienburg\n",
      "Processing Record 7 of Set 10| wad madani\n",
      "City not found. Skipping...\n",
      "Processing Record 8 of Set 10| luganville\n",
      "Processing Record 9 of Set 10| xghajra\n",
      "City not found. Skipping...\n",
      "Processing Record 10 of Set 10| erzin\n",
      "Processing Record 11 of Set 10| ancud\n",
      "Processing Record 12 of Set 10| poopo\n",
      "Processing Record 13 of Set 10| tuyen quang\n",
      "City not found. Skipping...\n",
      "Processing Record 14 of Set 10| balikpapan\n",
      "Processing Record 15 of Set 10| necochea\n",
      "Processing Record 16 of Set 10| yangambi\n",
      "Processing Record 17 of Set 10| touros\n",
      "Processing Record 18 of Set 10| lolua\n",
      "City not found. Skipping...\n",
      "Processing Record 19 of Set 10| sioni\n",
      "Processing Record 20 of Set 10| king city\n",
      "City not found. Skipping...\n",
      "Processing Record 21 of Set 10| kabanjahe\n",
      "Processing Record 22 of Set 10| port-cartier\n",
      "Processing Record 23 of Set 10| saint-augustin\n",
      "Processing Record 24 of Set 10| kodinsk\n",
      "Processing Record 25 of Set 10| hihifo\n",
      "City not found. Skipping...\n",
      "Processing Record 26 of Set 10| kralendijk\n",
      "Processing Record 27 of Set 10| kovdor\n",
      "Processing Record 28 of Set 10| cabinda\n",
      "Processing Record 29 of Set 10| ucluelet\n",
      "Processing Record 30 of Set 10| sete\n",
      "Processing Record 31 of Set 10| bogorodskoye\n",
      "Processing Record 32 of Set 10| carutapera\n",
      "Processing Record 33 of Set 10| itupiranga\n",
      "Processing Record 34 of Set 10| palabuhanratu\n",
      "City not found. Skipping...\n",
      "Processing Record 35 of Set 10| pandamatenga\n",
      "Processing Record 36 of Set 10| nicoya\n",
      "Processing Record 37 of Set 10| alotau\n",
      "City not found. Skipping...\n",
      "Processing Record 38 of Set 10| angra\n",
      "City not found. Skipping...\n",
      "Processing Record 39 of Set 10| si racha\n",
      "City not found. Skipping...\n",
      "Processing Record 40 of Set 10| urucui\n",
      "Processing Record 41 of Set 10| stornoway\n",
      "Processing Record 42 of Set 10| dubbo\n",
      "Processing Record 43 of Set 10| nibbar\n",
      "Processing Record 44 of Set 10| edd\n",
      "Processing Record 45 of Set 10| ngukurr\n",
      "City not found. Skipping...\n",
      "Processing Record 46 of Set 10| makung\n",
      "City not found. Skipping...\n",
      "Processing Record 47 of Set 10| viedma\n",
      "Processing Record 48 of Set 10| salinas\n",
      "Processing Record 49 of Set 10| aden\n",
      "Processing Record 50 of Set 10| nome\n",
      "Processing Record 1 of Set 11| sulangan\n",
      "Processing Record 2 of Set 11| guadalupe\n",
      "Processing Record 3 of Set 11| eyemouth\n",
      "Processing Record 4 of Set 11| adwa\n",
      "Processing Record 5 of Set 11| saint anthony\n",
      "City not found. Skipping...\n",
      "Processing Record 6 of Set 11| esperance\n",
      "Processing Record 7 of Set 11| samarai\n",
      "Processing Record 8 of Set 11| klaksvik\n",
      "Processing Record 9 of Set 11| mitsamiouli\n",
      "Processing Record 10 of Set 11| santa maria\n",
      "City not found. Skipping...\n",
      "Processing Record 11 of Set 11| tukrah\n",
      "Processing Record 12 of Set 11| ingham\n",
      "Processing Record 13 of Set 11| valverde del camino\n",
      "City not found. Skipping...\n",
      "Processing Record 14 of Set 11| shenjiamen\n",
      "Processing Record 15 of Set 11| mallapuram\n",
      "Processing Record 16 of Set 11| tiznit\n",
      "Processing Record 17 of Set 11| sakaraha\n",
      "Processing Record 18 of Set 11| fernie\n",
      "Processing Record 19 of Set 11| gedo\n",
      "Processing Record 20 of Set 11| karasburg\n",
      "Processing Record 21 of Set 11| pinotepa nacional\n",
      "City not found. Skipping...\n",
      "Processing Record 22 of Set 11| gunjur\n",
      "Processing Record 23 of Set 11| belmonte\n",
      "Processing Record 24 of Set 11| lappeenranta\n",
      "Processing Record 25 of Set 11| skagastrond\n",
      "City not found. Skipping...\n",
      "Processing Record 26 of Set 11| bathsheba\n",
      "Processing Record 27 of Set 11| abrau-dyurso\n",
      "Processing Record 28 of Set 11| bulgan\n",
      "Processing Record 29 of Set 11| sanjwal\n",
      "Processing Record 30 of Set 11| tecoanapa\n",
      "Processing Record 31 of Set 11| borovskoy\n",
      "Processing Record 32 of Set 11| toamasina\n",
      "Processing Record 33 of Set 11| alyangula\n",
      "Processing Record 34 of Set 11| sabzevar\n",
      "Processing Record 35 of Set 11| galiwinku\n",
      "City not found. Skipping...\n",
      "Processing Record 36 of Set 11| mareeba\n",
      "Processing Record 37 of Set 11| bardiyah\n",
      "Processing Record 38 of Set 11| zhigansk\n",
      "Processing Record 39 of Set 11| saint-denis\n",
      "Processing Record 40 of Set 11| kapit\n",
      "Processing Record 41 of Set 11| seminole\n",
      "Processing Record 42 of Set 11| lakes entrance\n",
      "City not found. Skipping...\n",
      "Processing Record 43 of Set 11| hurghada\n",
      "Processing Record 44 of Set 11| fuzhou\n",
      "Processing Record 45 of Set 11| amazar\n",
      "Processing Record 46 of Set 11| pangoa\n",
      "Processing Record 47 of Set 11| lircay\n",
      "Processing Record 48 of Set 11| sambava\n",
      "Processing Record 49 of Set 11| porosozero\n",
      "Processing Record 50 of Set 11| scottsbluff\n",
      "Processing Record 1 of Set 12| langxiang\n",
      "Processing Record 2 of Set 12| verkhoyansk\n",
      "Processing Record 3 of Set 12| kalabo\n",
      "Processing Record 4 of Set 12| issia\n",
      "Processing Record 5 of Set 12| karmala\n",
      "Processing Record 6 of Set 12| tessalit\n",
      "Processing Record 7 of Set 12| dzhusaly\n",
      "City not found. Skipping...\n",
      "Processing Record 8 of Set 12| mabaruma\n",
      "Processing Record 9 of Set 12| vila velha\n",
      "City not found. Skipping...\n",
      "Processing Record 10 of Set 12| macieira de cambra\n",
      "City not found. Skipping...\n",
      "Processing Record 11 of Set 12| ejido\n",
      "Processing Record 12 of Set 12| altay\n",
      "Processing Record 13 of Set 12| zelenoborsk\n",
      "Processing Record 14 of Set 12| ozgon\n",
      "City not found. Skipping...\n",
      "Processing Record 15 of Set 12| lagoa\n",
      "Processing Record 16 of Set 12| kodinar\n",
      "Processing Record 17 of Set 12| maragogi\n",
      "Processing Record 18 of Set 12| general roca\n",
      "City not found. Skipping...\n",
      "Processing Record 19 of Set 12| tarija\n",
      "Processing Record 20 of Set 12| jiayuguan\n",
      "Processing Record 21 of Set 12| karatu\n",
      "Processing Record 22 of Set 12| chifeng\n",
      "Processing Record 23 of Set 12| alofi\n",
      "Processing Record 24 of Set 12| mongar\n",
      "Processing Record 25 of Set 12| cururupu\n",
      "Processing Record 26 of Set 12| areni\n",
      "Processing Record 27 of Set 12| terra santa\n",
      "City not found. Skipping...\n",
      "Processing Record 28 of Set 12| biak\n",
      "Processing Record 29 of Set 12| wamba\n",
      "Processing Record 30 of Set 12| banjar\n",
      "Processing Record 31 of Set 12| peterongan\n",
      "Processing Record 32 of Set 12| proletarsk\n",
      "Processing Record 33 of Set 12| preobrazheniye\n",
      "Processing Record 34 of Set 12| bay roberts\n",
      "City not found. Skipping...\n",
      "Processing Record 35 of Set 12| charlestown\n",
      "Processing Record 36 of Set 12| felidhoo\n",
      "City not found. Skipping...\n",
      "Processing Record 37 of Set 12| huicungo\n",
      "Processing Record 38 of Set 12| somerset east\n",
      "City not found. Skipping...\n",
      "Processing Record 39 of Set 12| ialibu\n",
      "Processing Record 40 of Set 12| mineral wells\n",
      "Processing Record 41 of Set 12| broken hill\n",
      "City not found. Skipping...\n",
      "Processing Record 42 of Set 12| umm kaddadah\n",
      "City not found. Skipping...\n",
      "Processing Record 43 of Set 12| tadine\n",
      "Processing Record 44 of Set 12| fauske\n",
      "Processing Record 45 of Set 12| kamarion\n",
      "Processing Record 46 of Set 12| andenes\n",
      "Processing Record 47 of Set 12| savonlinna\n",
      "Processing Record 48 of Set 12| narrabri\n",
      "Processing Record 49 of Set 12| taman\n",
      "Processing Record 50 of Set 12| luanda\n",
      "Processing Record 1 of Set 13| zachagansk\n",
      "City not found. Skipping...\n",
      "Processing Record 2 of Set 13| texarkana\n",
      "Processing Record 3 of Set 13| bima\n",
      "Processing Record 4 of Set 13| marzuq\n",
      "Processing Record 5 of Set 13| westerkappeln\n",
      "Processing Record 6 of Set 13| katherine\n",
      "Processing Record 7 of Set 13| dongkan\n",
      "Processing Record 8 of Set 13| lusambo\n",
      "Processing Record 9 of Set 13| port macquarie\n",
      "City not found. Skipping...\n",
      "Processing Record 10 of Set 13| pungesti\n",
      "Processing Record 11 of Set 13| vila franca do campo\n",
      "City not found. Skipping...\n",
      "Processing Record 12 of Set 13| yurya\n",
      "City not found. Skipping...\n",
      "Processing Record 13 of Set 13| gat\n",
      "Processing Record 14 of Set 13| pochutla\n",
      "Processing Record 15 of Set 13| anadyr\n",
      "Processing Record 16 of Set 13| mbanza-ngungu\n",
      "Processing Record 17 of Set 13| ternate\n",
      "Processing Record 18 of Set 13| tulagi\n",
      "Processing Record 19 of Set 13| puerto del rosario\n",
      "City not found. Skipping...\n",
      "Processing Record 20 of Set 13| christchurch\n",
      "Processing Record 21 of Set 13| lakatoro\n",
      "Processing Record 22 of Set 13| pinheiro machado\n",
      "City not found. Skipping...\n",
      "Processing Record 23 of Set 13| grindavik\n",
      "Processing Record 24 of Set 13| bonthe\n",
      "Processing Record 25 of Set 13| celestun\n",
      "Processing Record 26 of Set 13| saint-pierre\n",
      "Processing Record 27 of Set 13| urumqi\n",
      "Processing Record 28 of Set 13| kandrian\n",
      "Processing Record 29 of Set 13| leh\n",
      "Processing Record 30 of Set 13| lamu\n",
      "Processing Record 31 of Set 13| jiazi\n",
      "Processing Record 32 of Set 13| challapata\n",
      "Processing Record 33 of Set 13| camana\n",
      "Processing Record 34 of Set 13| aluksne\n",
      "---------------------------\n",
      "Data Retrieval Complete\n",
      "---------------------------\n"
     ]
    }
   ],
   "source": [
    "#put list of cities into a data frame\n",
    "city_df = pd.DataFrame(city_list)\n",
    "city_df = city_df.rename(columns = {0:'City'})\n",
    "\n",
    "#add additional columns\n",
    "city_df['Lat']=\"\"\n",
    "city_df['Lng']=\"\"\n",
    "city_df['Max Temp']=\"\"\n",
    "city_df['Humidity']=\"\"\n",
    "city_df['Cloudiness']=\"\"\n",
    "city_df['Wind Speed']=\"\"\n",
    "city_df['Country']=\"\"\n",
    "city_df['Date']=\"\"\n",
    "\n",
    "#define variables\n",
    "url = \"http://api.openweathermap.org/data/2.5/weather?\"\n",
    "record_count = 0\n",
    "set_count = 1\n",
    "\n",
    "print(\"Beginning Data Retrieval\")\n",
    "print(\"--------------------------\")\n",
    "\n",
    "#iterate through the city df\n",
    "for index,row in city_df.iterrows():\n",
    "    #access api\n",
    "    city_name = row[\"City\"]\n",
    "    city_url = f'{url}appid={weather_api_key}&q={city_name.replace(\" \", \"\")}&units=imperial'\n",
    "    response = requests.get(city_url).json()\n",
    "    if record_count < 50:\n",
    "        record_count = record_count +1\n",
    "    else:\n",
    "        set_count = set_count + 1\n",
    "        record_count = 1\n",
    "    print(f'Processing Record {record_count} of Set {set_count}| {city_name}')\n",
    "    #add information to city df\n",
    "    try:\n",
    "        city_df.loc[index, \"Lat\"]=response['coord']['lat']\n",
    "        city_df.loc[index, \"Lng\"]=response['coord']['lon']\n",
    "        city_df.loc[index, \"Max Temp\"]=response['main']['temp_max']\n",
    "        city_df.loc[index, \"Humidity\"]=response['main']['humidity']\n",
    "        city_df.loc[index, \"Cloudiness\"]=response['clouds']['all']\n",
    "        city_df.loc[index, \"Wind Speed\"]=response['wind']['speed']\n",
    "        city_df.loc[index, \"Country\"]=response['sys']['country']\n",
    "        city_df.loc[index, \"Date\"]=response['dt']\n",
    "    except (KeyError, IndexError):\n",
    "        print(\"City not found. Skipping...\")\n",
    "    #keep the api from pulling too many requests in a minute\n",
    "    time.sleep(1.5)\n",
    "print(\"---------------------------\")\n",
    "print(\"Data Retrieval Complete\")\n",
    "print(\"---------------------------\")"
   ]
  },
  {
   "cell_type": "markdown",
   "metadata": {},
   "source": [
    "### Convert Raw Data to DataFrame\n",
    "* Export the city data into a .csv.\n",
    "* Display the DataFrame"
   ]
  },
  {
   "cell_type": "code",
   "execution_count": 15,
   "metadata": {},
   "outputs": [
    {
     "data": {
      "text/html": [
       "<div>\n",
       "<style scoped>\n",
       "    .dataframe tbody tr th:only-of-type {\n",
       "        vertical-align: middle;\n",
       "    }\n",
       "\n",
       "    .dataframe tbody tr th {\n",
       "        vertical-align: top;\n",
       "    }\n",
       "\n",
       "    .dataframe thead th {\n",
       "        text-align: right;\n",
       "    }\n",
       "</style>\n",
       "<table border=\"1\" class=\"dataframe\">\n",
       "  <thead>\n",
       "    <tr style=\"text-align: right;\">\n",
       "      <th></th>\n",
       "      <th>City</th>\n",
       "      <th>Lat</th>\n",
       "      <th>Lng</th>\n",
       "      <th>Max Temp</th>\n",
       "      <th>Humidity</th>\n",
       "      <th>Cloudiness</th>\n",
       "      <th>Wind Speed</th>\n",
       "      <th>Country</th>\n",
       "      <th>Date</th>\n",
       "    </tr>\n",
       "  </thead>\n",
       "  <tbody>\n",
       "    <tr>\n",
       "      <th>0</th>\n",
       "      <td>adrar</td>\n",
       "      <td>20.5022</td>\n",
       "      <td>-10.0711</td>\n",
       "      <td>80.08</td>\n",
       "      <td>7.0</td>\n",
       "      <td>0.0</td>\n",
       "      <td>10.74</td>\n",
       "      <td>MR</td>\n",
       "      <td>1.616788e+09</td>\n",
       "    </tr>\n",
       "    <tr>\n",
       "      <th>1</th>\n",
       "      <td>chokurdakh</td>\n",
       "      <td>70.6333</td>\n",
       "      <td>147.9167</td>\n",
       "      <td>-31.85</td>\n",
       "      <td>100.0</td>\n",
       "      <td>76.0</td>\n",
       "      <td>4.47</td>\n",
       "      <td>RU</td>\n",
       "      <td>1.616788e+09</td>\n",
       "    </tr>\n",
       "    <tr>\n",
       "      <th>2</th>\n",
       "      <td>laguna</td>\n",
       "      <td>38.4210</td>\n",
       "      <td>-121.4238</td>\n",
       "      <td>69.01</td>\n",
       "      <td>24.0</td>\n",
       "      <td>1.0</td>\n",
       "      <td>16.11</td>\n",
       "      <td>US</td>\n",
       "      <td>1.616788e+09</td>\n",
       "    </tr>\n",
       "    <tr>\n",
       "      <th>3</th>\n",
       "      <td>mehamn</td>\n",
       "      <td>71.0357</td>\n",
       "      <td>27.8492</td>\n",
       "      <td>37.40</td>\n",
       "      <td>64.0</td>\n",
       "      <td>0.0</td>\n",
       "      <td>35.68</td>\n",
       "      <td>NO</td>\n",
       "      <td>1.616788e+09</td>\n",
       "    </tr>\n",
       "    <tr>\n",
       "      <th>6</th>\n",
       "      <td>lleida</td>\n",
       "      <td>41.6167</td>\n",
       "      <td>0.6167</td>\n",
       "      <td>62.01</td>\n",
       "      <td>67.0</td>\n",
       "      <td>0.0</td>\n",
       "      <td>3.44</td>\n",
       "      <td>ES</td>\n",
       "      <td>1.616788e+09</td>\n",
       "    </tr>\n",
       "  </tbody>\n",
       "</table>\n",
       "</div>"
      ],
      "text/plain": [
       "         City      Lat       Lng  Max Temp  Humidity  Cloudiness  Wind Speed  \\\n",
       "0       adrar  20.5022  -10.0711     80.08       7.0         0.0       10.74   \n",
       "1  chokurdakh  70.6333  147.9167    -31.85     100.0        76.0        4.47   \n",
       "2      laguna  38.4210 -121.4238     69.01      24.0         1.0       16.11   \n",
       "3      mehamn  71.0357   27.8492     37.40      64.0         0.0       35.68   \n",
       "6      lleida  41.6167    0.6167     62.01      67.0         0.0        3.44   \n",
       "\n",
       "  Country          Date  \n",
       "0      MR  1.616788e+09  \n",
       "1      RU  1.616788e+09  \n",
       "2      US  1.616788e+09  \n",
       "3      NO  1.616788e+09  \n",
       "6      ES  1.616788e+09  "
      ]
     },
     "execution_count": 15,
     "metadata": {},
     "output_type": "execute_result"
    }
   ],
   "source": [
    "#clean the data frame\n",
    "clean_df = city_df\n",
    "clean_df = clean_df.replace('', np.nan)\n",
    "clean_df = clean_df.dropna()\n",
    "\n",
    "#export city data into a .csv\n",
    "clean_df.to_csv('WeatherPY/output_data/clean_cities_data_2.csv', index = False, header=True)\n",
    "\n",
    "#Display the df\n",
    "clean_df.head()"
   ]
  },
  {
   "cell_type": "markdown",
   "metadata": {},
   "source": [
    "## Inspect the data and remove the cities where the humidity > 100%.\n",
    "----\n",
    "Skip this step if there are no cities that have humidity > 100%. "
   ]
  },
  {
   "cell_type": "code",
   "execution_count": 16,
   "metadata": {},
   "outputs": [],
   "source": [
    "low_humidity_df = clean_df.loc[(clean_df[\"Humidity\"])<=100]"
   ]
  },
  {
   "cell_type": "code",
   "execution_count": 17,
   "metadata": {},
   "outputs": [
    {
     "data": {
      "text/plain": [
       "[]"
      ]
     },
     "execution_count": 17,
     "metadata": {},
     "output_type": "execute_result"
    }
   ],
   "source": [
    "#  Get the indices of cities that have humidity over 100%.\n",
    "high_humidity_df = clean_df.loc[(clean_df[\"Humidity\"])>100]\n",
    "index = high_humidity_df.index\n",
    "condition = high_humidity_df[\"Humidity\"]>100\n",
    "high_humidity_indices = index[condition]\n",
    "high_humidity_list = high_humidity_indices.tolist()\n",
    "high_humidity_list"
   ]
  },
  {
   "cell_type": "code",
   "execution_count": 18,
   "metadata": {},
   "outputs": [
    {
     "data": {
      "text/html": [
       "<div>\n",
       "<style scoped>\n",
       "    .dataframe tbody tr th:only-of-type {\n",
       "        vertical-align: middle;\n",
       "    }\n",
       "\n",
       "    .dataframe tbody tr th {\n",
       "        vertical-align: top;\n",
       "    }\n",
       "\n",
       "    .dataframe thead th {\n",
       "        text-align: right;\n",
       "    }\n",
       "</style>\n",
       "<table border=\"1\" class=\"dataframe\">\n",
       "  <thead>\n",
       "    <tr style=\"text-align: right;\">\n",
       "      <th></th>\n",
       "      <th>City</th>\n",
       "      <th>Lat</th>\n",
       "      <th>Lng</th>\n",
       "      <th>Max Temp</th>\n",
       "      <th>Humidity</th>\n",
       "      <th>Cloudiness</th>\n",
       "      <th>Wind Speed</th>\n",
       "      <th>Country</th>\n",
       "      <th>Date</th>\n",
       "    </tr>\n",
       "  </thead>\n",
       "  <tbody>\n",
       "    <tr>\n",
       "      <th>0</th>\n",
       "      <td>adrar</td>\n",
       "      <td>20.5022</td>\n",
       "      <td>-10.0711</td>\n",
       "      <td>80.08</td>\n",
       "      <td>7.0</td>\n",
       "      <td>0.0</td>\n",
       "      <td>10.74</td>\n",
       "      <td>MR</td>\n",
       "      <td>1.616788e+09</td>\n",
       "    </tr>\n",
       "    <tr>\n",
       "      <th>1</th>\n",
       "      <td>chokurdakh</td>\n",
       "      <td>70.6333</td>\n",
       "      <td>147.9167</td>\n",
       "      <td>-31.85</td>\n",
       "      <td>100.0</td>\n",
       "      <td>76.0</td>\n",
       "      <td>4.47</td>\n",
       "      <td>RU</td>\n",
       "      <td>1.616788e+09</td>\n",
       "    </tr>\n",
       "    <tr>\n",
       "      <th>2</th>\n",
       "      <td>laguna</td>\n",
       "      <td>38.4210</td>\n",
       "      <td>-121.4238</td>\n",
       "      <td>69.01</td>\n",
       "      <td>24.0</td>\n",
       "      <td>1.0</td>\n",
       "      <td>16.11</td>\n",
       "      <td>US</td>\n",
       "      <td>1.616788e+09</td>\n",
       "    </tr>\n",
       "    <tr>\n",
       "      <th>3</th>\n",
       "      <td>mehamn</td>\n",
       "      <td>71.0357</td>\n",
       "      <td>27.8492</td>\n",
       "      <td>37.40</td>\n",
       "      <td>64.0</td>\n",
       "      <td>0.0</td>\n",
       "      <td>35.68</td>\n",
       "      <td>NO</td>\n",
       "      <td>1.616788e+09</td>\n",
       "    </tr>\n",
       "    <tr>\n",
       "      <th>6</th>\n",
       "      <td>lleida</td>\n",
       "      <td>41.6167</td>\n",
       "      <td>0.6167</td>\n",
       "      <td>62.01</td>\n",
       "      <td>67.0</td>\n",
       "      <td>0.0</td>\n",
       "      <td>3.44</td>\n",
       "      <td>ES</td>\n",
       "      <td>1.616788e+09</td>\n",
       "    </tr>\n",
       "    <tr>\n",
       "      <th>...</th>\n",
       "      <td>...</td>\n",
       "      <td>...</td>\n",
       "      <td>...</td>\n",
       "      <td>...</td>\n",
       "      <td>...</td>\n",
       "      <td>...</td>\n",
       "      <td>...</td>\n",
       "      <td>...</td>\n",
       "      <td>...</td>\n",
       "    </tr>\n",
       "    <tr>\n",
       "      <th>629</th>\n",
       "      <td>lamu</td>\n",
       "      <td>-2.2717</td>\n",
       "      <td>40.9020</td>\n",
       "      <td>82.40</td>\n",
       "      <td>78.0</td>\n",
       "      <td>1.0</td>\n",
       "      <td>9.22</td>\n",
       "      <td>KE</td>\n",
       "      <td>1.616789e+09</td>\n",
       "    </tr>\n",
       "    <tr>\n",
       "      <th>630</th>\n",
       "      <td>jiazi</td>\n",
       "      <td>22.8779</td>\n",
       "      <td>116.0670</td>\n",
       "      <td>67.87</td>\n",
       "      <td>84.0</td>\n",
       "      <td>100.0</td>\n",
       "      <td>4.88</td>\n",
       "      <td>CN</td>\n",
       "      <td>1.616789e+09</td>\n",
       "    </tr>\n",
       "    <tr>\n",
       "      <th>631</th>\n",
       "      <td>challapata</td>\n",
       "      <td>-18.9000</td>\n",
       "      <td>-66.7667</td>\n",
       "      <td>59.81</td>\n",
       "      <td>38.0</td>\n",
       "      <td>72.0</td>\n",
       "      <td>3.04</td>\n",
       "      <td>BO</td>\n",
       "      <td>1.616789e+09</td>\n",
       "    </tr>\n",
       "    <tr>\n",
       "      <th>632</th>\n",
       "      <td>camana</td>\n",
       "      <td>-16.6228</td>\n",
       "      <td>-72.7111</td>\n",
       "      <td>72.81</td>\n",
       "      <td>74.0</td>\n",
       "      <td>98.0</td>\n",
       "      <td>8.14</td>\n",
       "      <td>PE</td>\n",
       "      <td>1.616789e+09</td>\n",
       "    </tr>\n",
       "    <tr>\n",
       "      <th>633</th>\n",
       "      <td>aluksne</td>\n",
       "      <td>57.4167</td>\n",
       "      <td>27.0500</td>\n",
       "      <td>30.29</td>\n",
       "      <td>94.0</td>\n",
       "      <td>1.0</td>\n",
       "      <td>2.33</td>\n",
       "      <td>LV</td>\n",
       "      <td>1.616789e+09</td>\n",
       "    </tr>\n",
       "  </tbody>\n",
       "</table>\n",
       "<p>488 rows × 9 columns</p>\n",
       "</div>"
      ],
      "text/plain": [
       "           City      Lat       Lng  Max Temp  Humidity  Cloudiness  \\\n",
       "0         adrar  20.5022  -10.0711     80.08       7.0         0.0   \n",
       "1    chokurdakh  70.6333  147.9167    -31.85     100.0        76.0   \n",
       "2        laguna  38.4210 -121.4238     69.01      24.0         1.0   \n",
       "3        mehamn  71.0357   27.8492     37.40      64.0         0.0   \n",
       "6        lleida  41.6167    0.6167     62.01      67.0         0.0   \n",
       "..          ...      ...       ...       ...       ...         ...   \n",
       "629        lamu  -2.2717   40.9020     82.40      78.0         1.0   \n",
       "630       jiazi  22.8779  116.0670     67.87      84.0       100.0   \n",
       "631  challapata -18.9000  -66.7667     59.81      38.0        72.0   \n",
       "632      camana -16.6228  -72.7111     72.81      74.0        98.0   \n",
       "633     aluksne  57.4167   27.0500     30.29      94.0         1.0   \n",
       "\n",
       "     Wind Speed Country          Date  \n",
       "0         10.74      MR  1.616788e+09  \n",
       "1          4.47      RU  1.616788e+09  \n",
       "2         16.11      US  1.616788e+09  \n",
       "3         35.68      NO  1.616788e+09  \n",
       "6          3.44      ES  1.616788e+09  \n",
       "..          ...     ...           ...  \n",
       "629        9.22      KE  1.616789e+09  \n",
       "630        4.88      CN  1.616789e+09  \n",
       "631        3.04      BO  1.616789e+09  \n",
       "632        8.14      PE  1.616789e+09  \n",
       "633        2.33      LV  1.616789e+09  \n",
       "\n",
       "[488 rows x 9 columns]"
      ]
     },
     "execution_count": 18,
     "metadata": {},
     "output_type": "execute_result"
    }
   ],
   "source": [
    "# Make a new DataFrame equal to the city data to drop all humidity outliers which we call \"clean_city_data\".\n",
    "clean_city_data = low_humidity_df\n",
    "clean_city_data"
   ]
  },
  {
   "cell_type": "markdown",
   "metadata": {},
   "source": [
    "## Plotting the Data\n",
    "* Use proper labeling of the plots using plot titles (including date of analysis) and axes labels.\n",
    "* Save the plotted figures as .pngs."
   ]
  },
  {
   "cell_type": "markdown",
   "metadata": {},
   "source": [
    "## Latitude vs. Temperature Plot"
   ]
  },
  {
   "cell_type": "code",
   "execution_count": 20,
   "metadata": {
    "scrolled": true
   },
   "outputs": [
    {
     "data": {
      "image/png": "[encoded data removed]",
      "text/plain": [
       "<Figure size 432x288 with 1 Axes>"
      ]
     },
     "metadata": {
      "needs_background": "light"
     },
     "output_type": "display_data"
    }
   ],
   "source": [
    "# Generate a scatter plot of city latitude vs. city temperature\n",
    "date = clean_city_data[\"Date\"][0]\n",
    "scatter_df = pd.DataFrame({\"City Latitude\":clean_city_data[\"Lat\"],\n",
    "                          \"Temperature (F)\": clean_city_data[\"Max Temp\"]})\n",
    "scatter_df.plot(kind = \"scatter\", x = \"City Latitude\", y = \"Temperature (F)\",grid = True);\n",
    "plt.savefig('WeatherPY/output_data/Figure1.png')\n",
    "plt.title(f\"City Latitude vs. Max Temperature {date}\");"
   ]
  },
  {
   "cell_type": "markdown",
   "metadata": {},
   "source": [
    "The graph above is plotting the correlation between city latitude and the city's maximum temperature. As the city gets closer to the equator (Lat 0) the temperature increases and as the city moves away from the equator the temperature decreases."
   ]
  },
  {
   "cell_type": "markdown",
   "metadata": {},
   "source": [
    "## Latitude vs. Humidity Plot"
   ]
  },
  {
   "cell_type": "code",
   "execution_count": 22,
   "metadata": {},
   "outputs": [
    {
     "data": {
      "image/png": "[encoded data removed]",
      "text/plain": [
       "<Figure size 432x288 with 1 Axes>"
      ]
     },
     "metadata": {
      "needs_background": "light"
     },
     "output_type": "display_data"
    }
   ],
   "source": [
    "# Generate a scatter plot of city latitude vs. city humidity\n",
    "date = clean_city_data[\"Date\"][0]\n",
    "scatter_df = pd.DataFrame({\"City Latitude\":clean_city_data[\"Lat\"],\n",
    "                          \"Humidity (%)\": clean_city_data[\"Humidity\"]})\n",
    "scatter_df.plot(kind = \"scatter\", x = \"City Latitude\", y = \"Humidity (%)\",grid = True);\n",
    "plt.savefig('WeatherPY/output_data/Figure2.png')\n",
    "plt.title(f\"City Latitude vs. Humidity {date}\");"
   ]
  },
  {
   "cell_type": "markdown",
   "metadata": {},
   "source": [
    "The above graph is plotting the correlation between latitude and humidity. There does not appear to be a strong linear correlation between a city's geographical position and humidity because the scatter of the points does not form a line. However, there may be a negative parabolic relationship because the dots make a u shape."
   ]
  },
  {
   "cell_type": "markdown",
   "metadata": {},
   "source": [
    "## Latitude vs. Cloudiness Plot"
   ]
  },
  {
   "cell_type": "code",
   "execution_count": 23,
   "metadata": {},
   "outputs": [
    {
     "data": {
      "image/png": "[encoded data removed]",
      "text/plain": [
       "<Figure size 432x288 with 1 Axes>"
      ]
     },
     "metadata": {
      "needs_background": "light"
     },
     "output_type": "display_data"
    }
   ],
   "source": [
    "# Generate a scatter plot of city latitude vs. city cloudiness\n",
    "date = clean_city_data[\"Date\"][0]\n",
    "scatter_df = pd.DataFrame({\"City Latitude\":clean_city_data[\"Lat\"],\n",
    "                          \"Cloudiness (%)\": clean_city_data[\"Cloudiness\"]})\n",
    "scatter_df.plot(kind = \"scatter\", x = \"City Latitude\", y = \"Cloudiness (%)\",grid = True);\n",
    "plt.savefig('WeatherPY/output_data/Figure3.png')\n",
    "plt.title(f\"City Latitude vs. Cloudiness {date}\");"
   ]
  },
  {
   "cell_type": "markdown",
   "metadata": {},
   "source": [
    "The above graph plots the relationship between latitude and cloudiness. There is not a relationship between the two variables because the best fit line would have a slope of 0."
   ]
  },
  {
   "cell_type": "markdown",
   "metadata": {},
   "source": [
    "## Latitude vs. Wind Speed Plot"
   ]
  },
  {
   "cell_type": "code",
   "execution_count": 24,
   "metadata": {},
   "outputs": [
    {
     "data": {
      "image/png": "[encoded data removed]",
      "text/plain": [
       "<Figure size 432x288 with 1 Axes>"
      ]
     },
     "metadata": {
      "needs_background": "light"
     },
     "output_type": "display_data"
    }
   ],
   "source": [
    "# Generate a scatter plot of city latitude vs. city wind speed\n",
    "date = clean_city_data[\"Date\"][0]\n",
    "scatter_df = pd.DataFrame({\"City Latitude\":clean_city_data[\"Lat\"],\n",
    "                          \"Wind Speed (mph)\": clean_city_data[\"Wind Speed\"]})\n",
    "scatter_df.plot(kind = \"scatter\", x = \"City Latitude\", y = \"Wind Speed (mph)\",grid = True);\n",
    "plt.savefig('WeatherPY/output_data/Figure4.png')\n",
    "plt.title(f\"City Latitude vs. Wind Speed {date}\");"
   ]
  },
  {
   "cell_type": "markdown",
   "metadata": {},
   "source": [
    "The above graph plots the relationship between city latitude and wind speed. There could be a slight positive relationship between the two variables (as city latitude increases wind speed also increases) but the r value will not be large."
   ]
  },
  {
   "cell_type": "markdown",
   "metadata": {},
   "source": [
    "## Linear Regression"
   ]
  },
  {
   "cell_type": "code",
   "execution_count": 25,
   "metadata": {},
   "outputs": [],
   "source": [
    "#create df for northern and southern hemispheres\n",
    "northern_hemisphere_df = clean_city_data.loc[clean_city_data[\"Lat\"]>0]\n",
    "southern_hemisphere_df = clean_city_data.loc[clean_city_data[\"Lat\"]<0]"
   ]
  },
  {
   "cell_type": "markdown",
   "metadata": {},
   "source": [
    "####  Northern Hemisphere - Max Temp vs. Latitude Linear Regression"
   ]
  },
  {
   "cell_type": "code",
   "execution_count": 26,
   "metadata": {},
   "outputs": [
    {
     "name": "stdout",
     "output_type": "stream",
     "text": [
      "The r-value is -0.88\n"
     ]
    },
    {
     "data": {
      "image/png": "[encoded data removed]",
      "text/plain": [
       "<Figure size 432x288 with 1 Axes>"
      ]
     },
     "metadata": {
      "needs_background": "light"
     },
     "output_type": "display_data"
    }
   ],
   "source": [
    "correlation = st.pearsonr(northern_hemisphere_df[\"Lat\"],northern_hemisphere_df[\"Max Temp\"])\n",
    "print(f\"The r-value is {round(correlation[0],2)}\")\n",
    "x_values = northern_hemisphere_df[\"Lat\"]\n",
    "y_values =  northern_hemisphere_df[\"Max Temp\"]\n",
    "(slope, intercept, rvalue, pvalue, stderr) = linregress(x_values, y_values)\n",
    "regress_values = x_values * slope + intercept\n",
    "line_eq = \"y = \" + str(round(slope,2)) + \"x + \" + str(round(intercept,2))\n",
    "plt.scatter(x_values,y_values)\n",
    "plt.plot(x_values,regress_values,\"r-\")\n",
    "plt.annotate(line_eq,(10,0),fontsize=15,color=\"red\")\n",
    "plt.xlabel('City Latitude')\n",
    "plt.ylabel('Temperature (F)')\n",
    "plt.title(f\"City Latitude vs. Max Temperature\");\n",
    "plt.savefig('WeatherPY/output_data/Figure5.png')\n",
    "plt.show()"
   ]
  },
  {
   "cell_type": "markdown",
   "metadata": {},
   "source": [
    "The above graph plots the relationship between a city's latitude in the northern hemisphere and the temperature. As the city gets further from the equator (latitude 0) the max temperature decreases. The r-value of -0.88 is a strong negative correlation between the two variables. This means that a city's latitude in the northern hemisphere has a strong correlation with the city's temperature and latitude could be used to predict max temperature."
   ]
  },
  {
   "cell_type": "markdown",
   "metadata": {},
   "source": [
    "####  Southern Hemisphere - Max Temp vs. Latitude Linear Regression"
   ]
  },
  {
   "cell_type": "code",
   "execution_count": 37,
   "metadata": {},
   "outputs": [
    {
     "name": "stdout",
     "output_type": "stream",
     "text": [
      "The r-value is 0.58\n"
     ]
    },
    {
     "data": {
      "image/png": "[encoded data removed]",
      "text/plain": [
       "<Figure size 432x288 with 1 Axes>"
      ]
     },
     "metadata": {
      "needs_background": "light"
     },
     "output_type": "display_data"
    }
   ],
   "source": [
    "correlation = st.pearsonr(southern_hemisphere_df[\"Lat\"],southern_hemisphere_df[\"Max Temp\"])\n",
    "print(f\"The r-value is {round(correlation[0],2)}\")\n",
    "x_values = southern_hemisphere_df[\"Lat\"]\n",
    "y_values =  southern_hemisphere_df[\"Max Temp\"]\n",
    "(slope, intercept, rvalue, pvalue, stderr) = linregress(x_values, y_values)\n",
    "regress_values = x_values * slope + intercept\n",
    "line_eq = \"y = \" + str(round(slope,2)) + \"x + \" + str(round(intercept,2))\n",
    "plt.scatter(x_values,y_values)\n",
    "plt.plot(x_values,regress_values,\"r-\")\n",
    "plt.annotate(line_eq,(-55,85),fontsize=15,color=\"red\")\n",
    "plt.xlabel('City Latitude')\n",
    "plt.ylabel('Temperature (F)')\n",
    "plt.title(f\"City Latitude vs. Max Temperature\");\n",
    "plt.savefig('WeatherPY/output_data/Figure6.png')\n",
    "plt.show()"
   ]
  },
  {
   "cell_type": "markdown",
   "metadata": {},
   "source": [
    "The above graph plots the relationship between a city's latitude in the southern hemisphere and the temperature. As the city gets closer to the equator (latitude 0) the max temperature increases. The r-value of 0.58 is a moderately strong positive correlation between the two variables meaning the city's latitude could be used to predict the city's max temperature, but it might not be completely accurate."
   ]
  },
  {
   "cell_type": "markdown",
   "metadata": {},
   "source": [
    "####  Northern Hemisphere - Humidity (%) vs. Latitude Linear Regression"
   ]
  },
  {
   "cell_type": "code",
   "execution_count": 28,
   "metadata": {},
   "outputs": [
    {
     "name": "stdout",
     "output_type": "stream",
     "text": [
      "The r-value is 0.39\n"
     ]
    },
    {
     "data": {
      "image/png": "[encoded data removed]",
      "text/plain": [
       "<Figure size 432x288 with 1 Axes>"
      ]
     },
     "metadata": {
      "needs_background": "light"
     },
     "output_type": "display_data"
    }
   ],
   "source": [
    "correlation = st.pearsonr(northern_hemisphere_df[\"Lat\"],northern_hemisphere_df[\"Humidity\"])\n",
    "print(f\"The r-value is {round(correlation[0],2)}\")\n",
    "x_values = northern_hemisphere_df[\"Lat\"]\n",
    "y_values =  northern_hemisphere_df[\"Humidity\"]\n",
    "(slope, intercept, rvalue, pvalue, stderr) = linregress(x_values, y_values)\n",
    "regress_values = x_values * slope + intercept\n",
    "line_eq = \"y = \" + str(round(slope,2)) + \"x + \" + str(round(intercept,2))\n",
    "plt.scatter(x_values,y_values)\n",
    "plt.plot(x_values,regress_values,\"r-\")\n",
    "plt.annotate(line_eq,(45,20),fontsize=15,color=\"red\")\n",
    "plt.xlabel('City Latitude')\n",
    "plt.ylabel('Humidity (%)')\n",
    "plt.title(f\"City Latitude vs. Humidity(%)\");\n",
    "plt.savefig('WeatherPY/output_data/Figure7.png')\n",
    "plt.show()"
   ]
  },
  {
   "cell_type": "markdown",
   "metadata": {},
   "source": [
    "The above graph plots the relationship between a city's latitude in the northern hemisphere and the humidity. As the city gets further from the equator (latitude 0) the humidity increases. The r-value of 0.39 is a moderately strong positive correlation between the two variables meaning that a city's latitude might be able to predict the humidity level but mostly likely won't be very accurate."
   ]
  },
  {
   "cell_type": "markdown",
   "metadata": {},
   "source": [
    "####  Southern Hemisphere - Humidity (%) vs. Latitude Linear Regression"
   ]
  },
  {
   "cell_type": "code",
   "execution_count": 36,
   "metadata": {},
   "outputs": [
    {
     "name": "stdout",
     "output_type": "stream",
     "text": [
      "The r-value is 0.29\n"
     ]
    },
    {
     "data": {
      "image/png": "[encoded data removed]",
      "text/plain": [
       "<Figure size 432x288 with 1 Axes>"
      ]
     },
     "metadata": {
      "needs_background": "light"
     },
     "output_type": "display_data"
    }
   ],
   "source": [
    "correlation = st.pearsonr(southern_hemisphere_df[\"Lat\"],southern_hemisphere_df[\"Humidity\"])\n",
    "print(f\"The r-value is {round(correlation[0],2)}\")\n",
    "x_values = southern_hemisphere_df[\"Lat\"]\n",
    "y_values =  southern_hemisphere_df[\"Humidity\"]\n",
    "(slope, intercept, rvalue, pvalue, stderr) = linregress(x_values, y_values)\n",
    "regress_values = x_values * slope + intercept\n",
    "line_eq = \"y = \" + str(round(slope,2)) + \"x + \" + str(round(intercept,2))\n",
    "plt.scatter(x_values,y_values)\n",
    "plt.plot(x_values,regress_values,\"r-\")\n",
    "plt.annotate(line_eq,(-55,40),fontsize=15,color=\"red\")\n",
    "plt.xlabel('City Latitude')\n",
    "plt.ylabel('Humidity (%)')\n",
    "plt.title(f\"City Latitude vs. Humidity(%)\");\n",
    "plt.savefig('WeatherPY/output_data/Figure8.png')\n",
    "plt.show()"
   ]
  },
  {
   "cell_type": "markdown",
   "metadata": {},
   "source": [
    "The above graph plots the relationship between a city's latitude in the southern hemisphere and the humidity. As the city gets closer to the equator (latitude 0) the humidity increases. The r-value of 0.29 is a weak positive correlation between the two variables. This means that latitude in the southern hemisphere is not a strong indicator of the city's humidity."
   ]
  },
  {
   "cell_type": "markdown",
   "metadata": {},
   "source": [
    "####  Northern Hemisphere - Cloudiness (%) vs. Latitude Linear Regression"
   ]
  },
  {
   "cell_type": "code",
   "execution_count": 31,
   "metadata": {},
   "outputs": [
    {
     "name": "stdout",
     "output_type": "stream",
     "text": [
      "The r-value is 0.26\n"
     ]
    },
    {
     "data": {
      "image/png": "[encoded data removed]",
      "text/plain": [
       "<Figure size 432x288 with 1 Axes>"
      ]
     },
     "metadata": {
      "needs_background": "light"
     },
     "output_type": "display_data"
    }
   ],
   "source": [
    "correlation = st.pearsonr(northern_hemisphere_df[\"Lat\"],northern_hemisphere_df[\"Cloudiness\"])\n",
    "print(f\"The r-value is {round(correlation[0],2)}\")\n",
    "x_values = northern_hemisphere_df[\"Lat\"]\n",
    "y_values =  northern_hemisphere_df[\"Cloudiness\"]\n",
    "(slope, intercept, rvalue, pvalue, stderr) = linregress(x_values, y_values)\n",
    "regress_values = x_values * slope + intercept\n",
    "line_eq = \"y = \" + str(round(slope,2)) + \"x + \" + str(round(intercept,2))\n",
    "plt.scatter(x_values,y_values)\n",
    "plt.plot(x_values,regress_values,\"r-\")\n",
    "plt.annotate(line_eq,(50,45),fontsize=15,color=\"red\")\n",
    "plt.xlabel('City Latitude')\n",
    "plt.ylabel('Cloudiness (%)')\n",
    "plt.title(f\"City Latitude vs. Cloudiness(%)\");\n",
    "plt.savefig('WeatherPY/output_data/Figure9.png')\n",
    "plt.show()"
   ]
  },
  {
   "cell_type": "markdown",
   "metadata": {},
   "source": [
    "The above graph plots the relationship between a city's latitude in the northern hemisphere and the cloudiness level. As the city gets further from the equator (latitude 0) the cloudiness increases. The r-value of 0.26 is a weak positive correlation between the two variables. This means that latitude is not a strong indicator of the city's cloudiness."
   ]
  },
  {
   "cell_type": "markdown",
   "metadata": {},
   "source": [
    "####  Southern Hemisphere - Cloudiness (%) vs. Latitude Linear Regression"
   ]
  },
  {
   "cell_type": "code",
   "execution_count": 32,
   "metadata": {},
   "outputs": [
    {
     "name": "stdout",
     "output_type": "stream",
     "text": [
      "The r-value is 0.36\n"
     ]
    },
    {
     "data": {
      "image/png": "[encoded data removed]",
      "text/plain": [
       "<Figure size 432x288 with 1 Axes>"
      ]
     },
     "metadata": {
      "needs_background": "light"
     },
     "output_type": "display_data"
    }
   ],
   "source": [
    "correlation = st.pearsonr(southern_hemisphere_df[\"Lat\"],southern_hemisphere_df[\"Cloudiness\"])\n",
    "print(f\"The r-value is {round(correlation[0],2)}\")\n",
    "x_values = southern_hemisphere_df[\"Lat\"]\n",
    "y_values =  southern_hemisphere_df[\"Cloudiness\"]\n",
    "(slope, intercept, rvalue, pvalue, stderr) = linregress(x_values, y_values)\n",
    "regress_values = x_values * slope + intercept\n",
    "line_eq = \"y = \" + str(round(slope,2)) + \"x + \" + str(round(intercept,2))\n",
    "plt.scatter(x_values,y_values)\n",
    "plt.plot(x_values,regress_values,\"r-\")\n",
    "plt.annotate(line_eq,(-55,80),fontsize=15,color=\"red\")\n",
    "plt.xlabel('City Latitude')\n",
    "plt.ylabel('Cloudiness (%)')\n",
    "plt.title(f\"City Latitude vs. Cloudiness(%)\");\n",
    "plt.savefig('WeatherPY/output_data/Figure10.png')\n",
    "plt.show()"
   ]
  },
  {
   "cell_type": "markdown",
   "metadata": {},
   "source": [
    "The above graph plots the relationship between a city's latitude in the southern hemisphere and the cloudiness level. As the city gets closer to the equator (latitude 0) the cloudiness increases. The r-value of 0.36 is a weak positive correlation between the two variables. This means that latitude is not a strong indicator of the city's cloudiness. There is a stronger correlation between a city's latitude and cloudiness in the southern hemisphere than the northern hemisphere because the r-value is 0.1 greater than the northern hemisphere's r-value. However, 0.36 is still not a strong correlation."
   ]
  },
  {
   "cell_type": "markdown",
   "metadata": {},
   "source": [
    "####  Northern Hemisphere - Wind Speed (mph) vs. Latitude Linear Regression"
   ]
  },
  {
   "cell_type": "code",
   "execution_count": 35,
   "metadata": {},
   "outputs": [
    {
     "name": "stdout",
     "output_type": "stream",
     "text": [
      "The r-value is 0.07\n"
     ]
    },
    {
     "data": {
      "image/png": "[encoded data removed]",
      "text/plain": [
       "<Figure size 432x288 with 1 Axes>"
      ]
     },
     "metadata": {
      "needs_background": "light"
     },
     "output_type": "display_data"
    }
   ],
   "source": [
    "correlation = st.pearsonr(northern_hemisphere_df[\"Lat\"],northern_hemisphere_df[\"Wind Speed\"])\n",
    "print(f\"The r-value is {round(correlation[0],2)}\")\n",
    "x_values = northern_hemisphere_df[\"Lat\"]\n",
    "y_values =  northern_hemisphere_df[\"Wind Speed\"]\n",
    "(slope, intercept, rvalue, pvalue, stderr) = linregress(x_values, y_values)\n",
    "regress_values = x_values * slope + intercept\n",
    "line_eq = \"y = \" + str(round(slope,2)) + \"x + \" + str(round(intercept,2))\n",
    "plt.scatter(x_values,y_values)\n",
    "plt.plot(x_values,regress_values,\"r-\")\n",
    "plt.annotate(line_eq,(10,30),fontsize=15,color=\"red\")\n",
    "plt.xlabel('City Latitude')\n",
    "plt.ylabel('Wind Speed (%)')\n",
    "plt.title(f\"City Latitude vs. Wind Speed (%)\");\n",
    "plt.savefig('WeatherPY/output_data/Figure11.png')\n",
    "plt.show()"
   ]
  },
  {
   "cell_type": "markdown",
   "metadata": {},
   "source": [
    "The above graph plots the relationship between a city's latitude in the northern hemisphere and the wind speed.The r-value of 0.07 is an extremely weak positive correlation (relationship could be by chance) between the two variables. This means that latitude is not a strong indicator of the city's wind speed and should not be used to predict wind speed."
   ]
  },
  {
   "cell_type": "markdown",
   "metadata": {},
   "source": [
    "####  Southern Hemisphere - Wind Speed (mph) vs. Latitude Linear Regression"
   ]
  },
  {
   "cell_type": "code",
   "execution_count": 38,
   "metadata": {},
   "outputs": [
    {
     "name": "stdout",
     "output_type": "stream",
     "text": [
      "The r-value is -0.18\n"
     ]
    },
    {
     "data": {
      "image/png": "[encoded data removed]",
      "text/plain": [
       "<Figure size 432x288 with 1 Axes>"
      ]
     },
     "metadata": {
      "needs_background": "light"
     },
     "output_type": "display_data"
    }
   ],
   "source": [
    "correlation = st.pearsonr(southern_hemisphere_df[\"Lat\"],southern_hemisphere_df[\"Wind Speed\"])\n",
    "print(f\"The r-value is {round(correlation[0],2)}\")\n",
    "x_values = southern_hemisphere_df[\"Lat\"]\n",
    "y_values =  southern_hemisphere_df[\"Wind Speed\"]\n",
    "(slope, intercept, rvalue, pvalue, stderr) = linregress(x_values, y_values)\n",
    "regress_values = x_values * slope + intercept\n",
    "line_eq = \"y = \" + str(round(slope,2)) + \"x + \" + str(round(intercept,2))\n",
    "plt.scatter(x_values,y_values)\n",
    "plt.plot(x_values,regress_values,\"r-\")\n",
    "plt.annotate(line_eq,(-50,20),fontsize=15,color=\"red\")\n",
    "plt.xlabel('City Latitude')\n",
    "plt.ylabel('Wind Speed (mph)')\n",
    "plt.title(f\"City Latitude vs. Wind Speed (mph)\");\n",
    "plt.savefig('WeatherPY/output_data/Figure12.png')\n",
    "plt.show()"
   ]
  },
  {
   "cell_type": "markdown",
   "metadata": {},
   "source": [
    "The above graph plots the relationship between a city's latitude in the southern hemisphere and the wind speed.The r-value of -0.18 is a weak negative correlation between the two variables. This means that latitude is not a strong indicator of the city's wind speed and most likely should not be used to predict wind speed."
   ]
  }
 ],
 "metadata": {
  "anaconda-cloud": {},
  "kernel_info": {
   "name": "python3"
  },
  "kernelspec": {
   "display_name": "Python 3",
   "language": "python",
   "name": "python3"
  },
  "language_info": {
   "codemirror_mode": {
    "name": "ipython",
    "version": 3
   },
   "file_extension": ".py",
   "mimetype": "text/x-python",
   "name": "python",
   "nbconvert_exporter": "python",
   "pygments_lexer": "ipython3",
   "version": "3.8.5"
  },
  "latex_envs": {
   "LaTeX_envs_menu_present": true,
   "autoclose": false,
   "autocomplete": true,
   "bibliofile": "biblio.bib",
   "cite_by": "apalike",
   "current_citInitial": 1,
   "eqLabelWithNumbers": true,
   "eqNumInitial": 1,
   "hotkeys": {
    "equation": "Ctrl-E",
    "itemize": "Ctrl-I"
   },
   "labels_anchors": false,
   "latex_user_defs": false,
   "report_style_numbering": false,
   "user_envs_cfg": false
  },
  "nteract": {
   "version": "0.12.3"
  }
 },
 "nbformat": 4,
 "nbformat_minor": 4
}
